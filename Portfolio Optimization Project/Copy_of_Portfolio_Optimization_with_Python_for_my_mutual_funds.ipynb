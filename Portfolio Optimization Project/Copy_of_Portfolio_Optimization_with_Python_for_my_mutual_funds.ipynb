{
  "nbformat": 4,
  "nbformat_minor": 0,
  "metadata": {
    "colab": {
      "name": "Copy of Portfolio Optimization with Python for my mutual funds.ipynb",
      "provenance": [],
      "collapsed_sections": [],
      "authorship_tag": "ABX9TyNv11ebdu7pH673ozu3NILP",
      "include_colab_link": true
    },
    "kernelspec": {
      "name": "python3",
      "display_name": "Python 3"
    },
    "language_info": {
      "name": "python"
    }
  },
  "cells": [
    {
      "cell_type": "markdown",
      "metadata": {
        "id": "view-in-github",
        "colab_type": "text"
      },
      "source": [
        "<a href=\"https://colab.research.google.com/github/Raj-dot-GitHub/Python-Finance-Projects/blob/main/Portfolio%20Optimization%20Project/Copy_of_Portfolio_Optimization_with_Python_for_my_mutual_funds.ipynb\" target=\"_parent\"><img src=\"https://colab.research.google.com/assets/colab-badge.svg\" alt=\"Open In Colab\"/></a>"
      ]
    },
    {
      "cell_type": "markdown",
      "metadata": {
        "id": "Vv3b0tVYoqMi"
      },
      "source": [
        "- Choosing the best portfolio option for the user."
      ]
    },
    {
      "cell_type": "code",
      "metadata": {
        "id": "kqUOBgrQo2_F"
      },
      "source": [
        "# Importing some libraries\n",
        "from pandas_datareader import data as web\n",
        "import pandas as pd\n",
        "import numpy as np\n",
        "from datetime import datetime\n",
        "import matplotlib.pyplot as plt\n",
        "plt.style.use(\"fivethirtyeight\")\n",
        "%matplotlib inline"
      ],
      "execution_count": null,
      "outputs": []
    },
    {
      "cell_type": "code",
      "metadata": {
        "id": "rCqjlVGtpDPR"
      },
      "source": [
        "# Get the symbols/tickers in the portfolio.\n",
        "assets = [\"0P0000XV9V.BO\", \"0P00011MAX.BO\", \"0P0000XVUH.BO\", \"0P0000YWL1.BO\"]"
      ],
      "execution_count": null,
      "outputs": []
    },
    {
      "cell_type": "code",
      "metadata": {
        "id": "1QxQvywnpKsa"
      },
      "source": [
        "# Assign weights to the assets.\n",
        "weights = np.array([0.25, 0.25, 0.25, 0.25])"
      ],
      "execution_count": null,
      "outputs": []
    },
    {
      "cell_type": "code",
      "metadata": {
        "id": "pJ2cNviTpOpG"
      },
      "source": [
        "# Stocks/Portfolio start date.\n",
        "stockStartDate = \"2018-01-02\""
      ],
      "execution_count": null,
      "outputs": []
    },
    {
      "cell_type": "code",
      "metadata": {
        "colab": {
          "base_uri": "https://localhost:8080/",
          "height": 35
        },
        "id": "uWMgKHbupTiT",
        "outputId": "6dfe7fe6-e9e9-4385-ce3e-cef8abacd5f6"
      },
      "source": [
        "# Get the stocks/portfolio ending date(today).\n",
        "today = datetime.today().strftime(\"%Y-%m-%d\")\n",
        "today"
      ],
      "execution_count": null,
      "outputs": [
        {
          "output_type": "execute_result",
          "data": {
            "application/vnd.google.colaboratory.intrinsic+json": {
              "type": "string"
            },
            "text/plain": [
              "'2021-06-08'"
            ]
          },
          "metadata": {
            "tags": []
          },
          "execution_count": 5
        }
      ]
    },
    {
      "cell_type": "code",
      "metadata": {
        "id": "mvt5V2CrpW6I"
      },
      "source": [
        "# Creating a dataframe to store the the Adj. Closing Price of the stocks.\n",
        "df = pd.DataFrame()"
      ],
      "execution_count": null,
      "outputs": []
    },
    {
      "cell_type": "code",
      "metadata": {
        "id": "WYcdnSnZppBx"
      },
      "source": [
        "# Storing the adj.closing prices of stocks into the df.\n",
        "for stock in assets:\n",
        "    df[stock] = web.DataReader(stock, data_source = \"yahoo\",start = stockStartDate, end = today)[\"Adj Close\"]"
      ],
      "execution_count": null,
      "outputs": []
    },
    {
      "cell_type": "code",
      "metadata": {
        "colab": {
          "base_uri": "https://localhost:8080/",
          "height": 390
        },
        "id": "p_2yjg-cptE7",
        "outputId": "847b70bf-e1cb-4c31-fa06-b264dde8bb1b"
      },
      "source": [
        "# Showing the df\n",
        "df.head(10)"
      ],
      "execution_count": null,
      "outputs": [
        {
          "output_type": "execute_result",
          "data": {
            "text/html": [
              "<div>\n",
              "<style scoped>\n",
              "    .dataframe tbody tr th:only-of-type {\n",
              "        vertical-align: middle;\n",
              "    }\n",
              "\n",
              "    .dataframe tbody tr th {\n",
              "        vertical-align: top;\n",
              "    }\n",
              "\n",
              "    .dataframe thead th {\n",
              "        text-align: right;\n",
              "    }\n",
              "</style>\n",
              "<table border=\"1\" class=\"dataframe\">\n",
              "  <thead>\n",
              "    <tr style=\"text-align: right;\">\n",
              "      <th></th>\n",
              "      <th>0P0000XV9V.BO</th>\n",
              "      <th>0P00011MAX.BO</th>\n",
              "      <th>0P0000XVUH.BO</th>\n",
              "      <th>0P0000YWL1.BO</th>\n",
              "    </tr>\n",
              "    <tr>\n",
              "      <th>Date</th>\n",
              "      <th></th>\n",
              "      <th></th>\n",
              "      <th></th>\n",
              "      <th></th>\n",
              "    </tr>\n",
              "  </thead>\n",
              "  <tbody>\n",
              "    <tr>\n",
              "      <th>2018-01-02</th>\n",
              "      <td>55.073002</td>\n",
              "      <td>30.620001</td>\n",
              "      <td>36.200001</td>\n",
              "      <td>23.886700</td>\n",
              "    </tr>\n",
              "    <tr>\n",
              "      <th>2018-01-03</th>\n",
              "      <td>55.284000</td>\n",
              "      <td>30.730000</td>\n",
              "      <td>36.400002</td>\n",
              "      <td>23.962400</td>\n",
              "    </tr>\n",
              "    <tr>\n",
              "      <th>2018-01-04</th>\n",
              "      <td>55.764999</td>\n",
              "      <td>30.830000</td>\n",
              "      <td>36.439999</td>\n",
              "      <td>24.069201</td>\n",
              "    </tr>\n",
              "    <tr>\n",
              "      <th>2018-01-05</th>\n",
              "      <td>56.495998</td>\n",
              "      <td>31.049999</td>\n",
              "      <td>36.820000</td>\n",
              "      <td>24.260201</td>\n",
              "    </tr>\n",
              "    <tr>\n",
              "      <th>2018-01-08</th>\n",
              "      <td>56.699001</td>\n",
              "      <td>31.120001</td>\n",
              "      <td>36.910000</td>\n",
              "      <td>24.382500</td>\n",
              "    </tr>\n",
              "    <tr>\n",
              "      <th>2018-01-09</th>\n",
              "      <td>56.852001</td>\n",
              "      <td>31.070000</td>\n",
              "      <td>36.779999</td>\n",
              "      <td>24.389000</td>\n",
              "    </tr>\n",
              "    <tr>\n",
              "      <th>2018-01-10</th>\n",
              "      <td>56.636002</td>\n",
              "      <td>31.030001</td>\n",
              "      <td>36.680000</td>\n",
              "      <td>24.452700</td>\n",
              "    </tr>\n",
              "    <tr>\n",
              "      <th>2018-01-11</th>\n",
              "      <td>56.624001</td>\n",
              "      <td>30.980000</td>\n",
              "      <td>36.630001</td>\n",
              "      <td>24.440300</td>\n",
              "    </tr>\n",
              "    <tr>\n",
              "      <th>2018-01-12</th>\n",
              "      <td>56.827000</td>\n",
              "      <td>31.040001</td>\n",
              "      <td>36.709999</td>\n",
              "      <td>24.517900</td>\n",
              "    </tr>\n",
              "    <tr>\n",
              "      <th>2018-01-15</th>\n",
              "      <td>56.935001</td>\n",
              "      <td>30.920000</td>\n",
              "      <td>36.770000</td>\n",
              "      <td>24.540501</td>\n",
              "    </tr>\n",
              "  </tbody>\n",
              "</table>\n",
              "</div>"
            ],
            "text/plain": [
              "            0P0000XV9V.BO  0P00011MAX.BO  0P0000XVUH.BO  0P0000YWL1.BO\n",
              "Date                                                                  \n",
              "2018-01-02      55.073002      30.620001      36.200001      23.886700\n",
              "2018-01-03      55.284000      30.730000      36.400002      23.962400\n",
              "2018-01-04      55.764999      30.830000      36.439999      24.069201\n",
              "2018-01-05      56.495998      31.049999      36.820000      24.260201\n",
              "2018-01-08      56.699001      31.120001      36.910000      24.382500\n",
              "2018-01-09      56.852001      31.070000      36.779999      24.389000\n",
              "2018-01-10      56.636002      31.030001      36.680000      24.452700\n",
              "2018-01-11      56.624001      30.980000      36.630001      24.440300\n",
              "2018-01-12      56.827000      31.040001      36.709999      24.517900\n",
              "2018-01-15      56.935001      30.920000      36.770000      24.540501"
            ]
          },
          "metadata": {
            "tags": []
          },
          "execution_count": 8
        }
      ]
    },
    {
      "cell_type": "code",
      "metadata": {
        "id": "Kge8W4tgGTsy"
      },
      "source": [
        "df.rename(columns = {\"0P0000XV9V.BO\":\"Mirae Asset Bluechip\",\"0P00011MAX.BO\":\"Axis Small Cap Fund\", \"0P0000XVUH.BO\":\"Axis Midcap Fund\", \"0P0000YWL1.BO\":\"Parag Parikh Flexi Cap\"}, inplace = True)"
      ],
      "execution_count": null,
      "outputs": []
    },
    {
      "cell_type": "code",
      "metadata": {
        "colab": {
          "base_uri": "https://localhost:8080/"
        },
        "id": "Dj8Z8aFUpxiS",
        "outputId": "5d7276da-d729-44f1-d5bd-c508b96d9769"
      },
      "source": [
        "df.isnull().sum()"
      ],
      "execution_count": null,
      "outputs": [
        {
          "output_type": "execute_result",
          "data": {
            "text/plain": [
              "Mirae Asset Bluechip      0\n",
              "Axis Small Cap Fund       0\n",
              "Axis Midcap Fund          0\n",
              "Parag Parikh Flexi Cap    0\n",
              "dtype: int64"
            ]
          },
          "metadata": {
            "tags": []
          },
          "execution_count": 10
        }
      ]
    },
    {
      "cell_type": "code",
      "metadata": {
        "id": "WOkELfN1HFHu"
      },
      "source": [
        "df.fillna(method = 'ffill', inplace = True)"
      ],
      "execution_count": null,
      "outputs": []
    },
    {
      "cell_type": "code",
      "metadata": {
        "colab": {
          "base_uri": "https://localhost:8080/"
        },
        "id": "hFFuhlq7HWT_",
        "outputId": "b77338c0-6dcb-400f-b061-5a7cf9d66ff9"
      },
      "source": [
        "df.isnull().sum()"
      ],
      "execution_count": null,
      "outputs": [
        {
          "output_type": "execute_result",
          "data": {
            "text/plain": [
              "Mirae Asset Bluechip      0\n",
              "Axis Small Cap Fund       0\n",
              "Axis Midcap Fund          0\n",
              "Parag Parikh Flexi Cap    0\n",
              "dtype: int64"
            ]
          },
          "metadata": {
            "tags": []
          },
          "execution_count": 12
        }
      ]
    },
    {
      "cell_type": "code",
      "metadata": {
        "colab": {
          "base_uri": "https://localhost:8080/",
          "height": 427
        },
        "id": "3wo22Q2hp7U0",
        "outputId": "6332523a-a74d-4073-c769-961ee67d0734"
      },
      "source": [
        "# Visualizing the stocks/portfolio.\n",
        "title = \"Portfolio Adj. Close Price History\"\n",
        "\n",
        "# Getting the stocks.\n",
        "my_stocks = df\n",
        "\n",
        "# Plotting the stocks\n",
        "plt.figure(figsize = (18,6))\n",
        "for c in my_stocks.columns.values:\n",
        "    plt.plot(my_stocks[c], label = c)\n",
        "    \n",
        "plt.title(title)\n",
        "plt.xlabel(\"Date\", fontsize = 18)\n",
        "plt.ylabel(\"Adj. Price in USD ($)\", fontsize = 18)\n",
        "plt.legend(my_stocks.columns.values, loc = \"upper left\")"
      ],
      "execution_count": null,
      "outputs": [
        {
          "output_type": "execute_result",
          "data": {
            "text/plain": [
              "<matplotlib.legend.Legend at 0x7f93a9e4e4d0>"
            ]
          },
          "metadata": {
            "tags": []
          },
          "execution_count": 13
        },
        {
          "output_type": "display_data",
          "data": {
            "image/png": "[encoded data removed]",
            "text/plain": [
              "<Figure size 1296x432 with 1 Axes>"
            ]
          },
          "metadata": {
            "tags": [],
            "needs_background": "light"
          }
        }
      ]
    },
    {
      "cell_type": "code",
      "metadata": {
        "colab": {
          "base_uri": "https://localhost:8080/",
          "height": 450
        },
        "id": "VFTuh10yp8GS",
        "outputId": "6435ee02-b0f6-4e86-837f-8a0940a8885a"
      },
      "source": [
        "# Show the daily simple returns\n",
        "returns = df.pct_change()\n",
        "returns"
      ],
      "execution_count": null,
      "outputs": [
        {
          "output_type": "execute_result",
          "data": {
            "text/html": [
              "<div>\n",
              "<style scoped>\n",
              "    .dataframe tbody tr th:only-of-type {\n",
              "        vertical-align: middle;\n",
              "    }\n",
              "\n",
              "    .dataframe tbody tr th {\n",
              "        vertical-align: top;\n",
              "    }\n",
              "\n",
              "    .dataframe thead th {\n",
              "        text-align: right;\n",
              "    }\n",
              "</style>\n",
              "<table border=\"1\" class=\"dataframe\">\n",
              "  <thead>\n",
              "    <tr style=\"text-align: right;\">\n",
              "      <th></th>\n",
              "      <th>Mirae Asset Bluechip</th>\n",
              "      <th>Axis Small Cap Fund</th>\n",
              "      <th>Axis Midcap Fund</th>\n",
              "      <th>Parag Parikh Flexi Cap</th>\n",
              "    </tr>\n",
              "    <tr>\n",
              "      <th>Date</th>\n",
              "      <th></th>\n",
              "      <th></th>\n",
              "      <th></th>\n",
              "      <th></th>\n",
              "    </tr>\n",
              "  </thead>\n",
              "  <tbody>\n",
              "    <tr>\n",
              "      <th>2018-01-02</th>\n",
              "      <td>NaN</td>\n",
              "      <td>NaN</td>\n",
              "      <td>NaN</td>\n",
              "      <td>NaN</td>\n",
              "    </tr>\n",
              "    <tr>\n",
              "      <th>2018-01-03</th>\n",
              "      <td>0.003831</td>\n",
              "      <td>0.003592</td>\n",
              "      <td>0.005525</td>\n",
              "      <td>0.003169</td>\n",
              "    </tr>\n",
              "    <tr>\n",
              "      <th>2018-01-04</th>\n",
              "      <td>0.008701</td>\n",
              "      <td>0.003254</td>\n",
              "      <td>0.001099</td>\n",
              "      <td>0.004457</td>\n",
              "    </tr>\n",
              "    <tr>\n",
              "      <th>2018-01-05</th>\n",
              "      <td>0.013109</td>\n",
              "      <td>0.007136</td>\n",
              "      <td>0.010428</td>\n",
              "      <td>0.007935</td>\n",
              "    </tr>\n",
              "    <tr>\n",
              "      <th>2018-01-08</th>\n",
              "      <td>0.003593</td>\n",
              "      <td>0.002254</td>\n",
              "      <td>0.002444</td>\n",
              "      <td>0.005041</td>\n",
              "    </tr>\n",
              "    <tr>\n",
              "      <th>...</th>\n",
              "      <td>...</td>\n",
              "      <td>...</td>\n",
              "      <td>...</td>\n",
              "      <td>...</td>\n",
              "    </tr>\n",
              "    <tr>\n",
              "      <th>2021-06-01</th>\n",
              "      <td>-0.001363</td>\n",
              "      <td>0.001669</td>\n",
              "      <td>-0.002331</td>\n",
              "      <td>-0.004759</td>\n",
              "    </tr>\n",
              "    <tr>\n",
              "      <th>2021-06-02</th>\n",
              "      <td>0.004259</td>\n",
              "      <td>0.007222</td>\n",
              "      <td>0.007322</td>\n",
              "      <td>-0.002572</td>\n",
              "    </tr>\n",
              "    <tr>\n",
              "      <th>2021-06-03</th>\n",
              "      <td>0.007688</td>\n",
              "      <td>0.002206</td>\n",
              "      <td>0.010516</td>\n",
              "      <td>0.001397</td>\n",
              "    </tr>\n",
              "    <tr>\n",
              "      <th>2021-06-04</th>\n",
              "      <td>-0.000723</td>\n",
              "      <td>0.004219</td>\n",
              "      <td>0.000918</td>\n",
              "      <td>-0.001727</td>\n",
              "    </tr>\n",
              "    <tr>\n",
              "      <th>2021-06-07</th>\n",
              "      <td>0.007538</td>\n",
              "      <td>0.005115</td>\n",
              "      <td>0.006422</td>\n",
              "      <td>0.009635</td>\n",
              "    </tr>\n",
              "  </tbody>\n",
              "</table>\n",
              "<p>841 rows × 4 columns</p>\n",
              "</div>"
            ],
            "text/plain": [
              "            Mirae Asset Bluechip  ...  Parag Parikh Flexi Cap\n",
              "Date                              ...                        \n",
              "2018-01-02                   NaN  ...                     NaN\n",
              "2018-01-03              0.003831  ...                0.003169\n",
              "2018-01-04              0.008701  ...                0.004457\n",
              "2018-01-05              0.013109  ...                0.007935\n",
              "2018-01-08              0.003593  ...                0.005041\n",
              "...                          ...  ...                     ...\n",
              "2021-06-01             -0.001363  ...               -0.004759\n",
              "2021-06-02              0.004259  ...               -0.002572\n",
              "2021-06-03              0.007688  ...                0.001397\n",
              "2021-06-04             -0.000723  ...               -0.001727\n",
              "2021-06-07              0.007538  ...                0.009635\n",
              "\n",
              "[841 rows x 4 columns]"
            ]
          },
          "metadata": {
            "tags": []
          },
          "execution_count": 14
        }
      ]
    },
    {
      "cell_type": "code",
      "metadata": {
        "colab": {
          "base_uri": "https://localhost:8080/",
          "height": 173
        },
        "id": "XARCLYpfqDiK",
        "outputId": "eb65a22a-ce63-487b-eea0-2f67eab761cb"
      },
      "source": [
        "# Create and show the annualized covariance matrix.\n",
        "cov_matrix_annual = returns.cov()*252\n",
        "cov_matrix_annual"
      ],
      "execution_count": null,
      "outputs": [
        {
          "output_type": "execute_result",
          "data": {
            "text/html": [
              "<div>\n",
              "<style scoped>\n",
              "    .dataframe tbody tr th:only-of-type {\n",
              "        vertical-align: middle;\n",
              "    }\n",
              "\n",
              "    .dataframe tbody tr th {\n",
              "        vertical-align: top;\n",
              "    }\n",
              "\n",
              "    .dataframe thead th {\n",
              "        text-align: right;\n",
              "    }\n",
              "</style>\n",
              "<table border=\"1\" class=\"dataframe\">\n",
              "  <thead>\n",
              "    <tr style=\"text-align: right;\">\n",
              "      <th></th>\n",
              "      <th>Mirae Asset Bluechip</th>\n",
              "      <th>Axis Small Cap Fund</th>\n",
              "      <th>Axis Midcap Fund</th>\n",
              "      <th>Parag Parikh Flexi Cap</th>\n",
              "    </tr>\n",
              "  </thead>\n",
              "  <tbody>\n",
              "    <tr>\n",
              "      <th>Mirae Asset Bluechip</th>\n",
              "      <td>0.041578</td>\n",
              "      <td>0.029204</td>\n",
              "      <td>0.030421</td>\n",
              "      <td>0.023224</td>\n",
              "    </tr>\n",
              "    <tr>\n",
              "      <th>Axis Small Cap Fund</th>\n",
              "      <td>0.029204</td>\n",
              "      <td>0.028159</td>\n",
              "      <td>0.024181</td>\n",
              "      <td>0.017783</td>\n",
              "    </tr>\n",
              "    <tr>\n",
              "      <th>Axis Midcap Fund</th>\n",
              "      <td>0.030421</td>\n",
              "      <td>0.024181</td>\n",
              "      <td>0.027040</td>\n",
              "      <td>0.017762</td>\n",
              "    </tr>\n",
              "    <tr>\n",
              "      <th>Parag Parikh Flexi Cap</th>\n",
              "      <td>0.023224</td>\n",
              "      <td>0.017783</td>\n",
              "      <td>0.017762</td>\n",
              "      <td>0.020663</td>\n",
              "    </tr>\n",
              "  </tbody>\n",
              "</table>\n",
              "</div>"
            ],
            "text/plain": [
              "                        Mirae Asset Bluechip  ...  Parag Parikh Flexi Cap\n",
              "Mirae Asset Bluechip                0.041578  ...                0.023224\n",
              "Axis Small Cap Fund                 0.029204  ...                0.017783\n",
              "Axis Midcap Fund                    0.030421  ...                0.017762\n",
              "Parag Parikh Flexi Cap              0.023224  ...                0.020663\n",
              "\n",
              "[4 rows x 4 columns]"
            ]
          },
          "metadata": {
            "tags": []
          },
          "execution_count": 15
        }
      ]
    },
    {
      "cell_type": "code",
      "metadata": {
        "colab": {
          "base_uri": "https://localhost:8080/"
        },
        "id": "b-WofVO4qG_e",
        "outputId": "faeeb99b-07de-467c-e7dd-c4b238a02568"
      },
      "source": [
        "# Calculate the portfolio variance.\n",
        "port_variance = np.dot(weights.T, np.dot(cov_matrix_annual, weights))\n",
        "port_variance"
      ],
      "execution_count": null,
      "outputs": [
        {
          "output_type": "execute_result",
          "data": {
            "text/plain": [
              "0.025161782516801477"
            ]
          },
          "metadata": {
            "tags": []
          },
          "execution_count": 16
        }
      ]
    },
    {
      "cell_type": "code",
      "metadata": {
        "colab": {
          "base_uri": "https://localhost:8080/"
        },
        "id": "Kd6RYsN5qL6A",
        "outputId": "60f54659-0d28-46f4-a18e-4786eeac528e"
      },
      "source": [
        "# Calculate the portfolio volatility(Standard deviation).\n",
        "port_volatility = np.sqrt(port_variance)\n",
        "port_volatility"
      ],
      "execution_count": null,
      "outputs": [
        {
          "output_type": "execute_result",
          "data": {
            "text/plain": [
              "0.15862465923305077"
            ]
          },
          "metadata": {
            "tags": []
          },
          "execution_count": 17
        }
      ]
    },
    {
      "cell_type": "code",
      "metadata": {
        "colab": {
          "base_uri": "https://localhost:8080/"
        },
        "id": "eT4csAEmqP2k",
        "outputId": "08b3b7ae-34e2-4506-e7eb-212f3c03e3f0"
      },
      "source": [
        "# Calcualute the annual portfolio return.\n",
        "portfolioSimpleAnnualReturn = np.sum(returns.mean()*weights*252)\n",
        "portfolioSimpleAnnualReturn"
      ],
      "execution_count": null,
      "outputs": [
        {
          "output_type": "execute_result",
          "data": {
            "text/plain": [
              "0.18906573090500814"
            ]
          },
          "metadata": {
            "tags": []
          },
          "execution_count": 18
        }
      ]
    },
    {
      "cell_type": "code",
      "metadata": {
        "colab": {
          "base_uri": "https://localhost:8080/"
        },
        "id": "KgoAjMJaqT-R",
        "outputId": "c6add54c-fe64-4d7d-d7c5-f659c3051904"
      },
      "source": [
        "# Show the expected annual returns, volatility(risk) and variance.\n",
        "\n",
        "percent_var = str(round(port_variance, 2)*100) + \" %\"\n",
        "percent_volt = str(round(port_volatility, 2)*100) + \" %\"\n",
        "percent_ret = str(round(portfolioSimpleAnnualReturn, 2)*100) + \" %\"\n",
        "\n",
        "print(\"Expected annual returns of our portfolio is \"+ percent_ret)\n",
        "print(\"Annual volatility(risk) is \" + percent_volt)\n",
        "print(\"Annual variance is \"+ percent_var)"
      ],
      "execution_count": null,
      "outputs": [
        {
          "output_type": "stream",
          "text": [
            "Expected annual returns of our portfolio is 19.0 %\n",
            "Annual volatility(risk) is 16.0 %\n",
            "Annual variance is 3.0 %\n"
          ],
          "name": "stdout"
        }
      ]
    },
    {
      "cell_type": "code",
      "metadata": {
        "id": "sgTfcmndqazY"
      },
      "source": [
        "## Let's adjust the weightage of the stocks in our portfolio to lower the risk and maximize returns."
      ],
      "execution_count": null,
      "outputs": []
    },
    {
      "cell_type": "code",
      "metadata": {
        "colab": {
          "base_uri": "https://localhost:8080/"
        },
        "id": "onwHndLHqgCf",
        "outputId": "c614d837-0326-43fd-cac5-53228b9179c9"
      },
      "source": [
        "pip install PyPortfolioOpt"
      ],
      "execution_count": null,
      "outputs": [
        {
          "output_type": "stream",
          "text": [
            "Collecting PyPortfolioOpt\n",
            "\u001b[?25l  Downloading https://files.pythonhosted.org/packages/46/55/7d39d78d554ee33a7317e345caf01339da11406c28f18bc48794fe967935/PyPortfolioOpt-1.4.1-py3-none-any.whl (56kB)\n",
            "\u001b[K     |████████████████████████████████| 61kB 2.2MB/s \n",
            "\u001b[?25hRequirement already satisfied: pandas>=0.19 in /usr/local/lib/python3.7/dist-packages (from PyPortfolioOpt) (1.1.5)\n",
            "Requirement already satisfied: scipy<2.0,>=1.3 in /usr/local/lib/python3.7/dist-packages (from PyPortfolioOpt) (1.4.1)\n",
            "Collecting cvxpy<2.0.0,>=1.1.10\n",
            "\u001b[?25l  Downloading https://files.pythonhosted.org/packages/f0/95/e7eb169a7802fe0c5c50dd7f29c2e9d357b5f29c70adc3f5ca2ab684a04b/cvxpy-1.1.13.tar.gz (1.3MB)\n",
            "\u001b[K     |████████████████████████████████| 1.3MB 4.9MB/s \n",
            "\u001b[?25h  Installing build dependencies ... \u001b[?25l\u001b[?25hdone\n",
            "  Getting requirements to build wheel ... \u001b[?25l\u001b[?25hdone\n",
            "    Preparing wheel metadata ... \u001b[?25l\u001b[?25hdone\n",
            "Requirement already satisfied: numpy<2.0,>=1.12 in /usr/local/lib/python3.7/dist-packages (from PyPortfolioOpt) (1.19.5)\n",
            "Requirement already satisfied: python-dateutil>=2.7.3 in /usr/local/lib/python3.7/dist-packages (from pandas>=0.19->PyPortfolioOpt) (2.8.1)\n",
            "Requirement already satisfied: pytz>=2017.2 in /usr/local/lib/python3.7/dist-packages (from pandas>=0.19->PyPortfolioOpt) (2018.9)\n",
            "Requirement already satisfied: osqp>=0.4.1 in /usr/local/lib/python3.7/dist-packages (from cvxpy<2.0.0,>=1.1.10->PyPortfolioOpt) (0.6.2.post0)\n",
            "Requirement already satisfied: ecos>=2 in /usr/local/lib/python3.7/dist-packages (from cvxpy<2.0.0,>=1.1.10->PyPortfolioOpt) (2.0.7.post1)\n",
            "Requirement already satisfied: scs>=1.1.6 in /usr/local/lib/python3.7/dist-packages (from cvxpy<2.0.0,>=1.1.10->PyPortfolioOpt) (2.1.3)\n",
            "Requirement already satisfied: six>=1.5 in /usr/local/lib/python3.7/dist-packages (from python-dateutil>=2.7.3->pandas>=0.19->PyPortfolioOpt) (1.15.0)\n",
            "Requirement already satisfied: qdldl in /usr/local/lib/python3.7/dist-packages (from osqp>=0.4.1->cvxpy<2.0.0,>=1.1.10->PyPortfolioOpt) (0.1.5.post0)\n",
            "Building wheels for collected packages: cvxpy\n",
            "  Building wheel for cvxpy (PEP 517) ... \u001b[?25l\u001b[?25hdone\n",
            "  Created wheel for cvxpy: filename=cvxpy-1.1.13-cp37-cp37m-linux_x86_64.whl size=2736127 sha256=1cd2d23a19da6c59cc7e09eb39951242718ae6f5d4bc318226251a8902ad5d9e\n",
            "  Stored in directory: /root/.cache/pip/wheels/f9/78/00/f29636789ee83434953b5442f16ec3f9834a68e7fd0393c220\n",
            "Successfully built cvxpy\n",
            "Installing collected packages: cvxpy, PyPortfolioOpt\n",
            "  Found existing installation: cvxpy 1.0.31\n",
            "    Uninstalling cvxpy-1.0.31:\n",
            "      Successfully uninstalled cvxpy-1.0.31\n",
            "Successfully installed PyPortfolioOpt-1.4.1 cvxpy-1.1.13\n"
          ],
          "name": "stdout"
        }
      ]
    },
    {
      "cell_type": "code",
      "metadata": {
        "id": "BuGXQmq4qi3H"
      },
      "source": [
        "from pypfopt.efficient_frontier import EfficientFrontier\n",
        "from pypfopt import risk_models\n",
        "from pypfopt import expected_returns"
      ],
      "execution_count": null,
      "outputs": []
    },
    {
      "cell_type": "code",
      "metadata": {
        "colab": {
          "base_uri": "https://localhost:8080/"
        },
        "id": "H6NLxdgvq2eo",
        "outputId": "f48ca077-c4e3-4981-b69a-2b8e083cc8b6"
      },
      "source": [
        "# Portfolio Optimization.\n",
        "\n",
        "# Calculate the expected returns and the annualised sample covariance matrix of asset returns.\n",
        "mu = expected_returns.mean_historical_return(df)\n",
        "S = risk_models.sample_cov(df)\n",
        "\n",
        "# Optimize for maximum \"Sharpe Ratio\".\n",
        "ef = EfficientFrontier(mu, S)\n",
        "new_weights = ef.max_sharpe()\n",
        "cleaned_weights = ef.clean_weights()\n",
        "print(cleaned_weights)\n",
        "ef.portfolio_performance(verbose = True)"
      ],
      "execution_count": null,
      "outputs": [
        {
          "output_type": "stream",
          "text": [
            "OrderedDict([('Mirae Asset Bluechip', 0.0), ('Axis Small Cap Fund', 0.01182), ('Axis Midcap Fund', 0.18668), ('Parag Parikh Flexi Cap', 0.80151)])\n",
            "Expected annual return: 20.0%\n",
            "Annual volatility: 14.1%\n",
            "Sharpe Ratio: 1.27\n"
          ],
          "name": "stdout"
        },
        {
          "output_type": "execute_result",
          "data": {
            "text/plain": [
              "(0.20014487602979453, 0.14134779051350516, 1.2744796036453254)"
            ]
          },
          "metadata": {
            "tags": []
          },
          "execution_count": 22
        }
      ]
    },
    {
      "cell_type": "code",
      "metadata": {
        "colab": {
          "base_uri": "https://localhost:8080/"
        },
        "id": "lrJxyhwJsSjh",
        "outputId": "326ea6d7-9bd5-42ec-8fb4-27c3100f6392"
      },
      "source": [
        " 0.14897 + 0.29681 + 0.23115 + 0.32307"
      ],
      "execution_count": null,
      "outputs": [
        {
          "output_type": "execute_result",
          "data": {
            "text/plain": [
              "1.0"
            ]
          },
          "metadata": {
            "tags": []
          },
          "execution_count": 23
        }
      ]
    },
    {
      "cell_type": "code",
      "metadata": {
        "colab": {
          "base_uri": "https://localhost:8080/"
        },
        "id": "D53ywYScsxbm",
        "outputId": "0df219db-441d-4a4e-cf1d-672cb2832de6"
      },
      "source": [
        "# Discrete allocation of each share per stock.\n",
        "from pypfopt.discrete_allocation import DiscreteAllocation, get_latest_prices\n",
        "\n",
        "latest_prices = get_latest_prices(df)\n",
        "weights = cleaned_weights\n",
        "da = DiscreteAllocation(weights, latest_prices, total_portfolio_value = 10000)\n",
        "\n",
        "allocation, leftover = da.lp_portfolio()\n",
        "print(\"Discrete Allocation: \", allocation)\n",
        "print('Funds remaining: {:.2f} Rs'.format(leftover))"
      ],
      "execution_count": null,
      "outputs": [
        {
          "output_type": "stream",
          "text": [
            "Discrete Allocation:  {'Axis Small Cap Fund': 2, 'Axis Midcap Fund': 28, 'Parag Parikh Flexi Cap': 182}\n",
            "Funds remaining: 39.11 Rs\n"
          ],
          "name": "stdout"
        }
      ]
    },
    {
      "cell_type": "code",
      "metadata": {
        "id": "uVJw3Ka5umd1"
      },
      "source": [
        ""
      ],
      "execution_count": null,
      "outputs": []
    }
  ]
}